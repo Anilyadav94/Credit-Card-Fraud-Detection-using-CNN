{
  "nbformat": 4,
  "nbformat_minor": 0,
  "metadata": {
    "colab": {
      "name": "Credit Card Fraud Detection",
      "provenance": [],
      "authorship_tag": "ABX9TyO7T/6xJ+aDap10oDKGuUuR",
      "include_colab_link": true
    },
    "kernelspec": {
      "name": "python3",
      "display_name": "Python 3"
    }
  },
  "cells": [
    {
      "cell_type": "markdown",
      "metadata": {
        "id": "view-in-github",
        "colab_type": "text"
      },
      "source": [
        "<a href=\"https://colab.research.google.com/github/Anilyadav94/Credit-Card-Fraud-Detection-using-CNN/blob/main/Credit_Card_Fraud_Detection.ipynb\" target=\"_parent\"><img src=\"https://colab.research.google.com/assets/colab-badge.svg\" alt=\"Open In Colab\"/></a>"
      ]
    },
    {
      "cell_type": "code",
      "metadata": {
        "colab": {
          "base_uri": "https://localhost:8080/"
        },
        "id": "F_2_mH3End8Y",
        "outputId": "942fc7d8-a30b-4703-f885-be67095fb982"
      },
      "source": [
        "import tensorflow as tf\r\n",
        "from tensorflow import keras\r\n",
        "from tensorflow.keras import Sequential\r\n",
        "from tensorflow.keras.layers import Flatten, Dense, Dropout, BatchNormalization\r\n",
        "from tensorflow.keras.layers import Conv1D, MaxPool1D\r\n",
        "from tensorflow.keras.optimizers import Adam\r\n",
        "print(tf.__version__)"
      ],
      "execution_count": 64,
      "outputs": [
        {
          "output_type": "stream",
          "text": [
            "2.4.0\n"
          ],
          "name": "stdout"
        }
      ]
    },
    {
      "cell_type": "code",
      "metadata": {
        "id": "J_gYrrc7nio0"
      },
      "source": [
        "import pandas as pd\r\n",
        "import numpy as np\r\n",
        "import matplotlib.pyplot as plt\r\n",
        "from sklearn.model_selection import train_test_split\r\n",
        "from sklearn.preprocessing import StandardScaler"
      ],
      "execution_count": 65,
      "outputs": []
    },
    {
      "cell_type": "code",
      "metadata": {
        "colab": {
          "base_uri": "https://localhost:8080/",
          "height": 224
        },
        "id": "5bX7r_tUnnSb",
        "outputId": "2bfb2b00-cde2-4979-8dbf-74bc14f4dff9"
      },
      "source": [
        "data = pd.read_csv('creditcard.csv')\r\n",
        "data.head()"
      ],
      "execution_count": 66,
      "outputs": [
        {
          "output_type": "execute_result",
          "data": {
            "text/html": [
              "<div>\n",
              "<style scoped>\n",
              "    .dataframe tbody tr th:only-of-type {\n",
              "        vertical-align: middle;\n",
              "    }\n",
              "\n",
              "    .dataframe tbody tr th {\n",
              "        vertical-align: top;\n",
              "    }\n",
              "\n",
              "    .dataframe thead th {\n",
              "        text-align: right;\n",
              "    }\n",
              "</style>\n",
              "<table border=\"1\" class=\"dataframe\">\n",
              "  <thead>\n",
              "    <tr style=\"text-align: right;\">\n",
              "      <th></th>\n",
              "      <th>Time</th>\n",
              "      <th>V1</th>\n",
              "      <th>V2</th>\n",
              "      <th>V3</th>\n",
              "      <th>V4</th>\n",
              "      <th>V5</th>\n",
              "      <th>V6</th>\n",
              "      <th>V7</th>\n",
              "      <th>V8</th>\n",
              "      <th>V9</th>\n",
              "      <th>V10</th>\n",
              "      <th>V11</th>\n",
              "      <th>V12</th>\n",
              "      <th>V13</th>\n",
              "      <th>V14</th>\n",
              "      <th>V15</th>\n",
              "      <th>V16</th>\n",
              "      <th>V17</th>\n",
              "      <th>V18</th>\n",
              "      <th>V19</th>\n",
              "      <th>V20</th>\n",
              "      <th>V21</th>\n",
              "      <th>V22</th>\n",
              "      <th>V23</th>\n",
              "      <th>V24</th>\n",
              "      <th>V25</th>\n",
              "      <th>V26</th>\n",
              "      <th>V27</th>\n",
              "      <th>V28</th>\n",
              "      <th>Amount</th>\n",
              "      <th>Class</th>\n",
              "    </tr>\n",
              "  </thead>\n",
              "  <tbody>\n",
              "    <tr>\n",
              "      <th>0</th>\n",
              "      <td>0.00</td>\n",
              "      <td>-1.36</td>\n",
              "      <td>-0.07</td>\n",
              "      <td>2.54</td>\n",
              "      <td>1.38</td>\n",
              "      <td>-0.34</td>\n",
              "      <td>0.46</td>\n",
              "      <td>0.24</td>\n",
              "      <td>0.10</td>\n",
              "      <td>0.36</td>\n",
              "      <td>0.09</td>\n",
              "      <td>-0.55</td>\n",
              "      <td>-0.62</td>\n",
              "      <td>-0.99</td>\n",
              "      <td>-0.31</td>\n",
              "      <td>1.47</td>\n",
              "      <td>-0.47</td>\n",
              "      <td>0.21</td>\n",
              "      <td>0.03</td>\n",
              "      <td>0.40</td>\n",
              "      <td>0.25</td>\n",
              "      <td>-0.02</td>\n",
              "      <td>0.28</td>\n",
              "      <td>-0.11</td>\n",
              "      <td>0.07</td>\n",
              "      <td>0.13</td>\n",
              "      <td>-0.19</td>\n",
              "      <td>0.13</td>\n",
              "      <td>-0.02</td>\n",
              "      <td>149.62</td>\n",
              "      <td>0.00</td>\n",
              "    </tr>\n",
              "    <tr>\n",
              "      <th>1</th>\n",
              "      <td>0.00</td>\n",
              "      <td>1.19</td>\n",
              "      <td>0.27</td>\n",
              "      <td>0.17</td>\n",
              "      <td>0.45</td>\n",
              "      <td>0.06</td>\n",
              "      <td>-0.08</td>\n",
              "      <td>-0.08</td>\n",
              "      <td>0.09</td>\n",
              "      <td>-0.26</td>\n",
              "      <td>-0.17</td>\n",
              "      <td>1.61</td>\n",
              "      <td>1.07</td>\n",
              "      <td>0.49</td>\n",
              "      <td>-0.14</td>\n",
              "      <td>0.64</td>\n",
              "      <td>0.46</td>\n",
              "      <td>-0.11</td>\n",
              "      <td>-0.18</td>\n",
              "      <td>-0.15</td>\n",
              "      <td>-0.07</td>\n",
              "      <td>-0.23</td>\n",
              "      <td>-0.64</td>\n",
              "      <td>0.10</td>\n",
              "      <td>-0.34</td>\n",
              "      <td>0.17</td>\n",
              "      <td>0.13</td>\n",
              "      <td>-0.01</td>\n",
              "      <td>0.01</td>\n",
              "      <td>2.69</td>\n",
              "      <td>0.00</td>\n",
              "    </tr>\n",
              "    <tr>\n",
              "      <th>2</th>\n",
              "      <td>1.00</td>\n",
              "      <td>-1.36</td>\n",
              "      <td>-1.34</td>\n",
              "      <td>1.77</td>\n",
              "      <td>0.38</td>\n",
              "      <td>-0.50</td>\n",
              "      <td>1.80</td>\n",
              "      <td>0.79</td>\n",
              "      <td>0.25</td>\n",
              "      <td>-1.51</td>\n",
              "      <td>0.21</td>\n",
              "      <td>0.62</td>\n",
              "      <td>0.07</td>\n",
              "      <td>0.72</td>\n",
              "      <td>-0.17</td>\n",
              "      <td>2.35</td>\n",
              "      <td>-2.89</td>\n",
              "      <td>1.11</td>\n",
              "      <td>-0.12</td>\n",
              "      <td>-2.26</td>\n",
              "      <td>0.52</td>\n",
              "      <td>0.25</td>\n",
              "      <td>0.77</td>\n",
              "      <td>0.91</td>\n",
              "      <td>-0.69</td>\n",
              "      <td>-0.33</td>\n",
              "      <td>-0.14</td>\n",
              "      <td>-0.06</td>\n",
              "      <td>-0.06</td>\n",
              "      <td>378.66</td>\n",
              "      <td>0.00</td>\n",
              "    </tr>\n",
              "    <tr>\n",
              "      <th>3</th>\n",
              "      <td>1.00</td>\n",
              "      <td>-0.97</td>\n",
              "      <td>-0.19</td>\n",
              "      <td>1.79</td>\n",
              "      <td>-0.86</td>\n",
              "      <td>-0.01</td>\n",
              "      <td>1.25</td>\n",
              "      <td>0.24</td>\n",
              "      <td>0.38</td>\n",
              "      <td>-1.39</td>\n",
              "      <td>-0.05</td>\n",
              "      <td>-0.23</td>\n",
              "      <td>0.18</td>\n",
              "      <td>0.51</td>\n",
              "      <td>-0.29</td>\n",
              "      <td>-0.63</td>\n",
              "      <td>-1.06</td>\n",
              "      <td>-0.68</td>\n",
              "      <td>1.97</td>\n",
              "      <td>-1.23</td>\n",
              "      <td>-0.21</td>\n",
              "      <td>-0.11</td>\n",
              "      <td>0.01</td>\n",
              "      <td>-0.19</td>\n",
              "      <td>-1.18</td>\n",
              "      <td>0.65</td>\n",
              "      <td>-0.22</td>\n",
              "      <td>0.06</td>\n",
              "      <td>0.06</td>\n",
              "      <td>123.50</td>\n",
              "      <td>0.00</td>\n",
              "    </tr>\n",
              "    <tr>\n",
              "      <th>4</th>\n",
              "      <td>2.00</td>\n",
              "      <td>-1.16</td>\n",
              "      <td>0.88</td>\n",
              "      <td>1.55</td>\n",
              "      <td>0.40</td>\n",
              "      <td>-0.41</td>\n",
              "      <td>0.10</td>\n",
              "      <td>0.59</td>\n",
              "      <td>-0.27</td>\n",
              "      <td>0.82</td>\n",
              "      <td>0.75</td>\n",
              "      <td>-0.82</td>\n",
              "      <td>0.54</td>\n",
              "      <td>1.35</td>\n",
              "      <td>-1.12</td>\n",
              "      <td>0.18</td>\n",
              "      <td>-0.45</td>\n",
              "      <td>-0.24</td>\n",
              "      <td>-0.04</td>\n",
              "      <td>0.80</td>\n",
              "      <td>0.41</td>\n",
              "      <td>-0.01</td>\n",
              "      <td>0.80</td>\n",
              "      <td>-0.14</td>\n",
              "      <td>0.14</td>\n",
              "      <td>-0.21</td>\n",
              "      <td>0.50</td>\n",
              "      <td>0.22</td>\n",
              "      <td>0.22</td>\n",
              "      <td>69.99</td>\n",
              "      <td>0.00</td>\n",
              "    </tr>\n",
              "  </tbody>\n",
              "</table>\n",
              "</div>"
            ],
            "text/plain": [
              "   Time    V1    V2   V3    V4    V5  ...   V25   V26   V27   V28  Amount  Class\n",
              "0  0.00 -1.36 -0.07 2.54  1.38 -0.34  ...  0.13 -0.19  0.13 -0.02  149.62   0.00\n",
              "1  0.00  1.19  0.27 0.17  0.45  0.06  ...  0.17  0.13 -0.01  0.01    2.69   0.00\n",
              "2  1.00 -1.36 -1.34 1.77  0.38 -0.50  ... -0.33 -0.14 -0.06 -0.06  378.66   0.00\n",
              "3  1.00 -0.97 -0.19 1.79 -0.86 -0.01  ...  0.65 -0.22  0.06  0.06  123.50   0.00\n",
              "4  2.00 -1.16  0.88 1.55  0.40 -0.41  ... -0.21  0.50  0.22  0.22   69.99   0.00\n",
              "\n",
              "[5 rows x 31 columns]"
            ]
          },
          "metadata": {
            "tags": []
          },
          "execution_count": 66
        }
      ]
    },
    {
      "cell_type": "code",
      "metadata": {
        "colab": {
          "base_uri": "https://localhost:8080/"
        },
        "id": "Gn_HkRIrnq8n",
        "outputId": "4ade2a5d-41bc-4bb5-9037-48d1e8d03f6d"
      },
      "source": [
        "data.shape"
      ],
      "execution_count": 67,
      "outputs": [
        {
          "output_type": "execute_result",
          "data": {
            "text/plain": [
              "(263383, 31)"
            ]
          },
          "metadata": {
            "tags": []
          },
          "execution_count": 67
        }
      ]
    },
    {
      "cell_type": "code",
      "metadata": {
        "colab": {
          "base_uri": "https://localhost:8080/"
        },
        "id": "IA3PLaFOnvQv",
        "outputId": "326d47f7-52b7-411b-876b-f034f3d1bdf6"
      },
      "source": [
        "data.isnull().sum()"
      ],
      "execution_count": 68,
      "outputs": [
        {
          "output_type": "execute_result",
          "data": {
            "text/plain": [
              "Time      0\n",
              "V1        0\n",
              "V2        0\n",
              "V3        0\n",
              "V4        0\n",
              "V5        0\n",
              "V6        0\n",
              "V7        0\n",
              "V8        0\n",
              "V9        0\n",
              "V10       0\n",
              "V11       0\n",
              "V12       0\n",
              "V13       0\n",
              "V14       0\n",
              "V15       0\n",
              "V16       0\n",
              "V17       0\n",
              "V18       0\n",
              "V19       0\n",
              "V20       1\n",
              "V21       1\n",
              "V22       1\n",
              "V23       1\n",
              "V24       1\n",
              "V25       1\n",
              "V26       1\n",
              "V27       1\n",
              "V28       1\n",
              "Amount    1\n",
              "Class     1\n",
              "dtype: int64"
            ]
          },
          "metadata": {
            "tags": []
          },
          "execution_count": 68
        }
      ]
    },
    {
      "cell_type": "code",
      "metadata": {
        "colab": {
          "base_uri": "https://localhost:8080/"
        },
        "id": "p1wH1ByTnv_Z",
        "outputId": "0b36ecde-668a-485a-ead5-ba3b9bae5a9c"
      },
      "source": [
        "data.info()"
      ],
      "execution_count": 69,
      "outputs": [
        {
          "output_type": "stream",
          "text": [
            "<class 'pandas.core.frame.DataFrame'>\n",
            "RangeIndex: 263383 entries, 0 to 263382\n",
            "Data columns (total 31 columns):\n",
            " #   Column  Non-Null Count   Dtype  \n",
            "---  ------  --------------   -----  \n",
            " 0   Time    263383 non-null  float64\n",
            " 1   V1      263383 non-null  float64\n",
            " 2   V2      263383 non-null  float64\n",
            " 3   V3      263383 non-null  float64\n",
            " 4   V4      263383 non-null  float64\n",
            " 5   V5      263383 non-null  float64\n",
            " 6   V6      263383 non-null  float64\n",
            " 7   V7      263383 non-null  float64\n",
            " 8   V8      263383 non-null  float64\n",
            " 9   V9      263383 non-null  float64\n",
            " 10  V10     263383 non-null  float64\n",
            " 11  V11     263383 non-null  float64\n",
            " 12  V12     263383 non-null  float64\n",
            " 13  V13     263383 non-null  float64\n",
            " 14  V14     263383 non-null  float64\n",
            " 15  V15     263383 non-null  float64\n",
            " 16  V16     263383 non-null  float64\n",
            " 17  V17     263383 non-null  float64\n",
            " 18  V18     263383 non-null  float64\n",
            " 19  V19     263383 non-null  float64\n",
            " 20  V20     263382 non-null  float64\n",
            " 21  V21     263382 non-null  float64\n",
            " 22  V22     263382 non-null  float64\n",
            " 23  V23     263382 non-null  float64\n",
            " 24  V24     263382 non-null  float64\n",
            " 25  V25     263382 non-null  float64\n",
            " 26  V26     263382 non-null  float64\n",
            " 27  V27     263382 non-null  float64\n",
            " 28  V28     263382 non-null  float64\n",
            " 29  Amount  263382 non-null  float64\n",
            " 30  Class   263382 non-null  float64\n",
            "dtypes: float64(31)\n",
            "memory usage: 62.3 MB\n"
          ],
          "name": "stdout"
        }
      ]
    },
    {
      "cell_type": "code",
      "metadata": {
        "colab": {
          "base_uri": "https://localhost:8080/"
        },
        "id": "tLwrRGePn2T6",
        "outputId": "bd0a4ed1-4ef4-4a70-ad41-f4d08cde8604"
      },
      "source": [
        "data['Class'].value_counts()"
      ],
      "execution_count": 70,
      "outputs": [
        {
          "output_type": "execute_result",
          "data": {
            "text/plain": [
              "0.00    262903\n",
              "1.00       479\n",
              "Name: Class, dtype: int64"
            ]
          },
          "metadata": {
            "tags": []
          },
          "execution_count": 70
        }
      ]
    },
    {
      "cell_type": "code",
      "metadata": {
        "colab": {
          "base_uri": "https://localhost:8080/"
        },
        "id": "pK_VQe4Hn6w7",
        "outputId": "03766f8b-74af-4c76-add1-176b899101d1"
      },
      "source": [
        "non_fraud = data[data['Class']==0]\r\n",
        "fraud = data[data['Class']==1]\r\n",
        "non_fraud.shape, fraud.shape"
      ],
      "execution_count": 71,
      "outputs": [
        {
          "output_type": "execute_result",
          "data": {
            "text/plain": [
              "((262903, 31), (479, 31))"
            ]
          },
          "metadata": {
            "tags": []
          },
          "execution_count": 71
        }
      ]
    },
    {
      "cell_type": "code",
      "metadata": {
        "colab": {
          "base_uri": "https://localhost:8080/"
        },
        "id": "mZYEF0A0n_mW",
        "outputId": "beba0092-ae61-4d14-ddcf-8135f6400882"
      },
      "source": [
        "non_fraud = non_fraud.sample(fraud.shape[0])\r\n",
        "non_fraud.shape"
      ],
      "execution_count": 72,
      "outputs": [
        {
          "output_type": "execute_result",
          "data": {
            "text/plain": [
              "(479, 31)"
            ]
          },
          "metadata": {
            "tags": []
          },
          "execution_count": 72
        }
      ]
    },
    {
      "cell_type": "code",
      "metadata": {
        "colab": {
          "base_uri": "https://localhost:8080/",
          "height": 224
        },
        "id": "O5Oga76toFaj",
        "outputId": "22c777f2-21bf-439b-bd4d-4a547dbb57ec"
      },
      "source": [
        "data = fraud.append(non_fraud, ignore_index=True)\r\n",
        "data.head()"
      ],
      "execution_count": 73,
      "outputs": [
        {
          "output_type": "execute_result",
          "data": {
            "text/html": [
              "<div>\n",
              "<style scoped>\n",
              "    .dataframe tbody tr th:only-of-type {\n",
              "        vertical-align: middle;\n",
              "    }\n",
              "\n",
              "    .dataframe tbody tr th {\n",
              "        vertical-align: top;\n",
              "    }\n",
              "\n",
              "    .dataframe thead th {\n",
              "        text-align: right;\n",
              "    }\n",
              "</style>\n",
              "<table border=\"1\" class=\"dataframe\">\n",
              "  <thead>\n",
              "    <tr style=\"text-align: right;\">\n",
              "      <th></th>\n",
              "      <th>Time</th>\n",
              "      <th>V1</th>\n",
              "      <th>V2</th>\n",
              "      <th>V3</th>\n",
              "      <th>V4</th>\n",
              "      <th>V5</th>\n",
              "      <th>V6</th>\n",
              "      <th>V7</th>\n",
              "      <th>V8</th>\n",
              "      <th>V9</th>\n",
              "      <th>V10</th>\n",
              "      <th>V11</th>\n",
              "      <th>V12</th>\n",
              "      <th>V13</th>\n",
              "      <th>V14</th>\n",
              "      <th>V15</th>\n",
              "      <th>V16</th>\n",
              "      <th>V17</th>\n",
              "      <th>V18</th>\n",
              "      <th>V19</th>\n",
              "      <th>V20</th>\n",
              "      <th>V21</th>\n",
              "      <th>V22</th>\n",
              "      <th>V23</th>\n",
              "      <th>V24</th>\n",
              "      <th>V25</th>\n",
              "      <th>V26</th>\n",
              "      <th>V27</th>\n",
              "      <th>V28</th>\n",
              "      <th>Amount</th>\n",
              "      <th>Class</th>\n",
              "    </tr>\n",
              "  </thead>\n",
              "  <tbody>\n",
              "    <tr>\n",
              "      <th>0</th>\n",
              "      <td>406.00</td>\n",
              "      <td>-2.31</td>\n",
              "      <td>1.95</td>\n",
              "      <td>-1.61</td>\n",
              "      <td>4.00</td>\n",
              "      <td>-0.52</td>\n",
              "      <td>-1.43</td>\n",
              "      <td>-2.54</td>\n",
              "      <td>1.39</td>\n",
              "      <td>-2.77</td>\n",
              "      <td>-2.77</td>\n",
              "      <td>3.20</td>\n",
              "      <td>-2.90</td>\n",
              "      <td>-0.60</td>\n",
              "      <td>-4.29</td>\n",
              "      <td>0.39</td>\n",
              "      <td>-1.14</td>\n",
              "      <td>-2.83</td>\n",
              "      <td>-0.02</td>\n",
              "      <td>0.42</td>\n",
              "      <td>0.13</td>\n",
              "      <td>0.52</td>\n",
              "      <td>-0.04</td>\n",
              "      <td>-0.47</td>\n",
              "      <td>0.32</td>\n",
              "      <td>0.04</td>\n",
              "      <td>0.18</td>\n",
              "      <td>0.26</td>\n",
              "      <td>-0.14</td>\n",
              "      <td>0.00</td>\n",
              "      <td>1.00</td>\n",
              "    </tr>\n",
              "    <tr>\n",
              "      <th>1</th>\n",
              "      <td>472.00</td>\n",
              "      <td>-3.04</td>\n",
              "      <td>-3.16</td>\n",
              "      <td>1.09</td>\n",
              "      <td>2.29</td>\n",
              "      <td>1.36</td>\n",
              "      <td>-1.06</td>\n",
              "      <td>0.33</td>\n",
              "      <td>-0.07</td>\n",
              "      <td>-0.27</td>\n",
              "      <td>-0.84</td>\n",
              "      <td>-0.41</td>\n",
              "      <td>-0.50</td>\n",
              "      <td>0.68</td>\n",
              "      <td>-1.69</td>\n",
              "      <td>2.00</td>\n",
              "      <td>0.67</td>\n",
              "      <td>0.60</td>\n",
              "      <td>1.73</td>\n",
              "      <td>0.28</td>\n",
              "      <td>2.10</td>\n",
              "      <td>0.66</td>\n",
              "      <td>0.44</td>\n",
              "      <td>1.38</td>\n",
              "      <td>-0.29</td>\n",
              "      <td>0.28</td>\n",
              "      <td>-0.15</td>\n",
              "      <td>-0.25</td>\n",
              "      <td>0.04</td>\n",
              "      <td>529.00</td>\n",
              "      <td>1.00</td>\n",
              "    </tr>\n",
              "    <tr>\n",
              "      <th>2</th>\n",
              "      <td>4462.00</td>\n",
              "      <td>-2.30</td>\n",
              "      <td>1.76</td>\n",
              "      <td>-0.36</td>\n",
              "      <td>2.33</td>\n",
              "      <td>-0.82</td>\n",
              "      <td>-0.08</td>\n",
              "      <td>0.56</td>\n",
              "      <td>-0.40</td>\n",
              "      <td>-0.24</td>\n",
              "      <td>-1.53</td>\n",
              "      <td>2.03</td>\n",
              "      <td>-6.56</td>\n",
              "      <td>0.02</td>\n",
              "      <td>-1.47</td>\n",
              "      <td>-0.70</td>\n",
              "      <td>-2.28</td>\n",
              "      <td>-4.78</td>\n",
              "      <td>-2.62</td>\n",
              "      <td>-1.33</td>\n",
              "      <td>-0.43</td>\n",
              "      <td>-0.29</td>\n",
              "      <td>-0.93</td>\n",
              "      <td>0.17</td>\n",
              "      <td>-0.09</td>\n",
              "      <td>-0.16</td>\n",
              "      <td>-0.54</td>\n",
              "      <td>0.04</td>\n",
              "      <td>-0.15</td>\n",
              "      <td>239.93</td>\n",
              "      <td>1.00</td>\n",
              "    </tr>\n",
              "    <tr>\n",
              "      <th>3</th>\n",
              "      <td>6986.00</td>\n",
              "      <td>-4.40</td>\n",
              "      <td>1.36</td>\n",
              "      <td>-2.59</td>\n",
              "      <td>2.68</td>\n",
              "      <td>-1.13</td>\n",
              "      <td>-1.71</td>\n",
              "      <td>-3.50</td>\n",
              "      <td>-0.25</td>\n",
              "      <td>-0.25</td>\n",
              "      <td>-4.80</td>\n",
              "      <td>4.90</td>\n",
              "      <td>-10.91</td>\n",
              "      <td>0.18</td>\n",
              "      <td>-6.77</td>\n",
              "      <td>-0.01</td>\n",
              "      <td>-7.36</td>\n",
              "      <td>-12.60</td>\n",
              "      <td>-5.13</td>\n",
              "      <td>0.31</td>\n",
              "      <td>-0.17</td>\n",
              "      <td>0.57</td>\n",
              "      <td>0.18</td>\n",
              "      <td>-0.44</td>\n",
              "      <td>-0.05</td>\n",
              "      <td>0.25</td>\n",
              "      <td>-0.66</td>\n",
              "      <td>-0.83</td>\n",
              "      <td>0.85</td>\n",
              "      <td>59.00</td>\n",
              "      <td>1.00</td>\n",
              "    </tr>\n",
              "    <tr>\n",
              "      <th>4</th>\n",
              "      <td>7519.00</td>\n",
              "      <td>1.23</td>\n",
              "      <td>3.02</td>\n",
              "      <td>-4.30</td>\n",
              "      <td>4.73</td>\n",
              "      <td>3.62</td>\n",
              "      <td>-1.36</td>\n",
              "      <td>1.71</td>\n",
              "      <td>-0.50</td>\n",
              "      <td>-1.28</td>\n",
              "      <td>-2.45</td>\n",
              "      <td>2.10</td>\n",
              "      <td>-4.61</td>\n",
              "      <td>1.46</td>\n",
              "      <td>-6.08</td>\n",
              "      <td>-0.34</td>\n",
              "      <td>2.58</td>\n",
              "      <td>6.74</td>\n",
              "      <td>3.04</td>\n",
              "      <td>-2.72</td>\n",
              "      <td>0.01</td>\n",
              "      <td>-0.38</td>\n",
              "      <td>-0.70</td>\n",
              "      <td>-0.66</td>\n",
              "      <td>-1.63</td>\n",
              "      <td>1.49</td>\n",
              "      <td>0.57</td>\n",
              "      <td>-0.01</td>\n",
              "      <td>0.15</td>\n",
              "      <td>1.00</td>\n",
              "      <td>1.00</td>\n",
              "    </tr>\n",
              "  </tbody>\n",
              "</table>\n",
              "</div>"
            ],
            "text/plain": [
              "     Time    V1    V2    V3   V4    V5  ...   V25   V26   V27   V28  Amount  Class\n",
              "0  406.00 -2.31  1.95 -1.61 4.00 -0.52  ...  0.04  0.18  0.26 -0.14    0.00   1.00\n",
              "1  472.00 -3.04 -3.16  1.09 2.29  1.36  ...  0.28 -0.15 -0.25  0.04  529.00   1.00\n",
              "2 4462.00 -2.30  1.76 -0.36 2.33 -0.82  ... -0.16 -0.54  0.04 -0.15  239.93   1.00\n",
              "3 6986.00 -4.40  1.36 -2.59 2.68 -1.13  ...  0.25 -0.66 -0.83  0.85   59.00   1.00\n",
              "4 7519.00  1.23  3.02 -4.30 4.73  3.62  ...  1.49  0.57 -0.01  0.15    1.00   1.00\n",
              "\n",
              "[5 rows x 31 columns]"
            ]
          },
          "metadata": {
            "tags": []
          },
          "execution_count": 73
        }
      ]
    },
    {
      "cell_type": "code",
      "metadata": {
        "colab": {
          "base_uri": "https://localhost:8080/"
        },
        "id": "hLRqykr2oK2O",
        "outputId": "904e79ac-955f-4e77-c00d-7af5dd64bd83"
      },
      "source": [
        "data['Class'].value_counts()"
      ],
      "execution_count": 74,
      "outputs": [
        {
          "output_type": "execute_result",
          "data": {
            "text/plain": [
              "0.00    479\n",
              "1.00    479\n",
              "Name: Class, dtype: int64"
            ]
          },
          "metadata": {
            "tags": []
          },
          "execution_count": 74
        }
      ]
    },
    {
      "cell_type": "code",
      "metadata": {
        "id": "n6IaJX8eoOLm"
      },
      "source": [
        "X = data.drop('Class', axis = 1)\r\n",
        "y = data['Class']"
      ],
      "execution_count": 75,
      "outputs": []
    },
    {
      "cell_type": "code",
      "metadata": {
        "id": "CShRljW1oSwa"
      },
      "source": [
        "X_train, X_test, y_train, y_test = train_test_split(X, y, test_size = 0.2, random_state = 0, stratify = y)"
      ],
      "execution_count": 76,
      "outputs": []
    },
    {
      "cell_type": "code",
      "metadata": {
        "colab": {
          "base_uri": "https://localhost:8080/"
        },
        "id": "F5ggSZFjoXPz",
        "outputId": "b1448a43-f1e2-41ce-f22a-a7cce93aeb23"
      },
      "source": [
        "X_train.shape, X_test.shape"
      ],
      "execution_count": 77,
      "outputs": [
        {
          "output_type": "execute_result",
          "data": {
            "text/plain": [
              "((766, 30), (192, 30))"
            ]
          },
          "metadata": {
            "tags": []
          },
          "execution_count": 77
        }
      ]
    },
    {
      "cell_type": "code",
      "metadata": {
        "colab": {
          "base_uri": "https://localhost:8080/"
        },
        "id": "nWg07NBmoaXG",
        "outputId": "9240295b-f55d-42dc-ea52-a54431ee2445"
      },
      "source": [
        "scaler = StandardScaler()\r\n",
        "X_train = scaler.fit_transform(X_train)\r\n",
        "X_test = scaler.transform(X_test)\r\n",
        "\r\n",
        "y_train = y_train.to_numpy()\r\n",
        "y_test = y_test.to_numpy()\r\n",
        "\r\n",
        "X_train.shape"
      ],
      "execution_count": 78,
      "outputs": [
        {
          "output_type": "execute_result",
          "data": {
            "text/plain": [
              "(766, 30)"
            ]
          },
          "metadata": {
            "tags": []
          },
          "execution_count": 78
        }
      ]
    },
    {
      "cell_type": "code",
      "metadata": {
        "colab": {
          "base_uri": "https://localhost:8080/"
        },
        "id": "t7jVso07ofgj",
        "outputId": "422cb6e6-aa08-4be0-e9bf-5d86cdab46b1"
      },
      "source": [
        "X_train = X_train.reshape(X_train.shape[0], X_train.shape[1], 1)\r\n",
        "X_test = X_test.reshape(X_test.shape[0], X_test.shape[1], 1)\r\n",
        "\r\n",
        "X_train.shape, X_test.shape"
      ],
      "execution_count": 79,
      "outputs": [
        {
          "output_type": "execute_result",
          "data": {
            "text/plain": [
              "((766, 30, 1), (192, 30, 1))"
            ]
          },
          "metadata": {
            "tags": []
          },
          "execution_count": 79
        }
      ]
    },
    {
      "cell_type": "code",
      "metadata": {
        "id": "xjHNm00zoig7"
      },
      "source": [
        "epochs = 20\r\n",
        "model = Sequential()\r\n",
        "model.add(Conv1D(32, 2, activation='relu', input_shape = X_train[0].shape))\r\n",
        "model.add(BatchNormalization())\r\n",
        "model.add(Dropout(0.2))\r\n",
        "\r\n",
        "model.add(Conv1D(64, 2, activation='relu'))\r\n",
        "model.add(BatchNormalization())\r\n",
        "model.add(Dropout(0.5))\r\n",
        "\r\n",
        "model.add(Flatten())\r\n",
        "model.add(Dense(64, activation='relu'))\r\n",
        "model.add(Dropout(0.5))\r\n",
        "\r\n",
        "model.add(Dense(1, activation='sigmoid'))"
      ],
      "execution_count": 80,
      "outputs": []
    },
    {
      "cell_type": "code",
      "metadata": {
        "colab": {
          "base_uri": "https://localhost:8080/"
        },
        "id": "okgHD4xkorYG",
        "outputId": "da3200d4-758b-44c4-86c8-c345e84416b0"
      },
      "source": [
        "model.summary()"
      ],
      "execution_count": 81,
      "outputs": [
        {
          "output_type": "stream",
          "text": [
            "Model: \"sequential_2\"\n",
            "_________________________________________________________________\n",
            "Layer (type)                 Output Shape              Param #   \n",
            "=================================================================\n",
            "conv1d (Conv1D)              (None, 29, 32)            96        \n",
            "_________________________________________________________________\n",
            "batch_normalization (BatchNo (None, 29, 32)            128       \n",
            "_________________________________________________________________\n",
            "dropout_6 (Dropout)          (None, 29, 32)            0         \n",
            "_________________________________________________________________\n",
            "conv1d_1 (Conv1D)            (None, 28, 64)            4160      \n",
            "_________________________________________________________________\n",
            "batch_normalization_1 (Batch (None, 28, 64)            256       \n",
            "_________________________________________________________________\n",
            "dropout_7 (Dropout)          (None, 28, 64)            0         \n",
            "_________________________________________________________________\n",
            "flatten (Flatten)            (None, 1792)              0         \n",
            "_________________________________________________________________\n",
            "dense_5 (Dense)              (None, 64)                114752    \n",
            "_________________________________________________________________\n",
            "dropout_8 (Dropout)          (None, 64)                0         \n",
            "_________________________________________________________________\n",
            "dense_6 (Dense)              (None, 1)                 65        \n",
            "=================================================================\n",
            "Total params: 119,457\n",
            "Trainable params: 119,265\n",
            "Non-trainable params: 192\n",
            "_________________________________________________________________\n"
          ],
          "name": "stdout"
        }
      ]
    },
    {
      "cell_type": "code",
      "metadata": {
        "id": "SvZXj_KBowPH"
      },
      "source": [
        "model.compile(optimizer=Adam(lr=0.0001), loss = 'binary_crossentropy', metrics=['accuracy'])"
      ],
      "execution_count": 82,
      "outputs": []
    },
    {
      "cell_type": "code",
      "metadata": {
        "colab": {
          "base_uri": "https://localhost:8080/"
        },
        "id": "XlUog-m2o3YI",
        "outputId": "3c3dfb29-862f-4e69-c0ee-8d04e65513c9"
      },
      "source": [
        "history = model.fit(X_train, y_train, epochs=epochs, validation_data=(X_test, y_test), verbose=1)"
      ],
      "execution_count": 83,
      "outputs": [
        {
          "output_type": "stream",
          "text": [
            "Epoch 1/20\n",
            "24/24 [==============================] - 1s 17ms/step - loss: 0.8587 - accuracy: 0.6090 - val_loss: 0.6001 - val_accuracy: 0.8594\n",
            "Epoch 2/20\n",
            "24/24 [==============================] - 0s 10ms/step - loss: 0.4771 - accuracy: 0.8349 - val_loss: 0.5615 - val_accuracy: 0.8750\n",
            "Epoch 3/20\n",
            "24/24 [==============================] - 0s 9ms/step - loss: 0.4548 - accuracy: 0.8215 - val_loss: 0.5257 - val_accuracy: 0.9010\n",
            "Epoch 4/20\n",
            "24/24 [==============================] - 0s 9ms/step - loss: 0.3929 - accuracy: 0.8631 - val_loss: 0.4983 - val_accuracy: 0.9062\n",
            "Epoch 5/20\n",
            "24/24 [==============================] - 0s 10ms/step - loss: 0.3183 - accuracy: 0.8914 - val_loss: 0.4667 - val_accuracy: 0.9167\n",
            "Epoch 6/20\n",
            "24/24 [==============================] - 0s 10ms/step - loss: 0.2924 - accuracy: 0.9003 - val_loss: 0.4343 - val_accuracy: 0.9219\n",
            "Epoch 7/20\n",
            "24/24 [==============================] - 0s 10ms/step - loss: 0.3274 - accuracy: 0.8634 - val_loss: 0.3956 - val_accuracy: 0.9115\n",
            "Epoch 8/20\n",
            "24/24 [==============================] - 0s 9ms/step - loss: 0.2898 - accuracy: 0.9022 - val_loss: 0.3686 - val_accuracy: 0.9010\n",
            "Epoch 9/20\n",
            "24/24 [==============================] - 0s 9ms/step - loss: 0.2878 - accuracy: 0.8892 - val_loss: 0.3453 - val_accuracy: 0.9010\n",
            "Epoch 10/20\n",
            "24/24 [==============================] - 0s 10ms/step - loss: 0.2554 - accuracy: 0.9103 - val_loss: 0.3227 - val_accuracy: 0.9062\n",
            "Epoch 11/20\n",
            "24/24 [==============================] - 0s 10ms/step - loss: 0.2419 - accuracy: 0.9305 - val_loss: 0.2988 - val_accuracy: 0.9062\n",
            "Epoch 12/20\n",
            "24/24 [==============================] - 0s 10ms/step - loss: 0.2169 - accuracy: 0.9359 - val_loss: 0.2737 - val_accuracy: 0.9062\n",
            "Epoch 13/20\n",
            "24/24 [==============================] - 0s 10ms/step - loss: 0.2242 - accuracy: 0.9118 - val_loss: 0.2595 - val_accuracy: 0.9062\n",
            "Epoch 14/20\n",
            "24/24 [==============================] - 0s 10ms/step - loss: 0.1536 - accuracy: 0.9450 - val_loss: 0.2414 - val_accuracy: 0.9115\n",
            "Epoch 15/20\n",
            "24/24 [==============================] - 0s 11ms/step - loss: 0.2078 - accuracy: 0.9214 - val_loss: 0.2212 - val_accuracy: 0.9062\n",
            "Epoch 16/20\n",
            "24/24 [==============================] - 0s 10ms/step - loss: 0.2238 - accuracy: 0.9221 - val_loss: 0.2146 - val_accuracy: 0.9062\n",
            "Epoch 17/20\n",
            "24/24 [==============================] - 0s 10ms/step - loss: 0.1852 - accuracy: 0.9310 - val_loss: 0.2063 - val_accuracy: 0.9115\n",
            "Epoch 18/20\n",
            "24/24 [==============================] - 0s 10ms/step - loss: 0.1751 - accuracy: 0.9353 - val_loss: 0.2014 - val_accuracy: 0.9115\n",
            "Epoch 19/20\n",
            "24/24 [==============================] - 0s 10ms/step - loss: 0.1783 - accuracy: 0.9150 - val_loss: 0.1977 - val_accuracy: 0.9115\n",
            "Epoch 20/20\n",
            "24/24 [==============================] - 0s 10ms/step - loss: 0.1638 - accuracy: 0.9381 - val_loss: 0.1985 - val_accuracy: 0.9115\n"
          ],
          "name": "stdout"
        }
      ]
    },
    {
      "cell_type": "code",
      "metadata": {
        "id": "J_VfUnfuo66q"
      },
      "source": [
        "def plot_learningCurve(history, epoch):\r\n",
        "  # Plot training & validation accuracy values\r\n",
        "  epoch_range = range(1, epoch+1)\r\n",
        "  plt.plot(epoch_range, history.history['accuracy'])\r\n",
        "  plt.plot(epoch_range, history.history['val_accuracy'])\r\n",
        "  plt.title('Model accuracy')\r\n",
        "  plt.ylabel('Accuracy')\r\n",
        "  plt.xlabel('Epoch')\r\n",
        "  plt.legend(['Train', 'Val'], loc='upper left')\r\n",
        "  plt.show()\r\n",
        "\r\n",
        "  # Plot training & validation loss values\r\n",
        "  plt.plot(epoch_range, history.history['loss'])\r\n",
        "  plt.plot(epoch_range, history.history['val_loss'])\r\n",
        "  plt.title('Model loss')\r\n",
        "  plt.ylabel('Loss')\r\n",
        "  plt.xlabel('Epoch')\r\n",
        "  plt.legend(['Train', 'Val'], loc='upper left')"
      ],
      "execution_count": 84,
      "outputs": []
    },
    {
      "cell_type": "code",
      "metadata": {
        "colab": {
          "base_uri": "https://localhost:8080/",
          "height": 573
        },
        "id": "gxnmlym6o_9b",
        "outputId": "35569d63-3d8a-4a36-e013-26c4c52af4ca"
      },
      "source": [
        "plot_learningCurve(history, epochs)"
      ],
      "execution_count": 85,
      "outputs": [
        {
          "output_type": "display_data",
          "data": {
            "image/png": "[encoded data removed]",
            "text/plain": [
              "<Figure size 432x288 with 1 Axes>"
            ]
          },
          "metadata": {
            "tags": []
          }
        },
        {
          "output_type": "display_data",
          "data": {
            "image/png": "[encoded data removed]",
            "text/plain": [
              "<Figure size 432x288 with 1 Axes>"
            ]
          },
          "metadata": {
            "tags": []
          }
        }
      ]
    },
    {
      "cell_type": "code",
      "metadata": {
        "colab": {
          "base_uri": "https://localhost:8080/"
        },
        "id": "_dKnhKD9pJgb",
        "outputId": "d0836180-3119-4df3-ebe4-bf8eac4c5942"
      },
      "source": [
        "epochs = 50\r\n",
        "model = Sequential()\r\n",
        "model.add(Conv1D(32, 2, activation='relu', input_shape = X_train[0].shape))\r\n",
        "model.add(BatchNormalization())\r\n",
        "model.add(MaxPool1D(2))\r\n",
        "model.add(Dropout(0.2))\r\n",
        "\r\n",
        "model.add(Conv1D(64, 2, activation='relu'))\r\n",
        "model.add(BatchNormalization())\r\n",
        "model.add(MaxPool1D(2))\r\n",
        "model.add(Dropout(0.5))\r\n",
        "\r\n",
        "model.add(Flatten())\r\n",
        "model.add(Dense(64, activation='relu'))\r\n",
        "model.add(Dropout(0.5))\r\n",
        "\r\n",
        "model.add(Dense(1, activation='sigmoid'))\r\n",
        "\r\n",
        "model.compile(optimizer=Adam(lr=0.0001), loss = 'binary_crossentropy', metrics=['accuracy'])\r\n",
        "history = model.fit(X_train, y_train, epochs=epochs, validation_data=(X_test, y_test), verbose=1)"
      ],
      "execution_count": 86,
      "outputs": [
        {
          "output_type": "stream",
          "text": [
            "Epoch 1/50\n",
            "24/24 [==============================] - 1s 14ms/step - loss: 0.9686 - accuracy: 0.5706 - val_loss: 0.6438 - val_accuracy: 0.7135\n",
            "Epoch 2/50\n",
            "24/24 [==============================] - 0s 7ms/step - loss: 0.7545 - accuracy: 0.6891 - val_loss: 0.6255 - val_accuracy: 0.7969\n",
            "Epoch 3/50\n",
            "24/24 [==============================] - 0s 6ms/step - loss: 0.7012 - accuracy: 0.7150 - val_loss: 0.6007 - val_accuracy: 0.8333\n",
            "Epoch 4/50\n",
            "24/24 [==============================] - 0s 7ms/step - loss: 0.6948 - accuracy: 0.7126 - val_loss: 0.5743 - val_accuracy: 0.8385\n",
            "Epoch 5/50\n",
            "24/24 [==============================] - 0s 6ms/step - loss: 0.5769 - accuracy: 0.7630 - val_loss: 0.5467 - val_accuracy: 0.8333\n",
            "Epoch 6/50\n",
            "24/24 [==============================] - 0s 6ms/step - loss: 0.5134 - accuracy: 0.7848 - val_loss: 0.5185 - val_accuracy: 0.8438\n",
            "Epoch 7/50\n",
            "24/24 [==============================] - 0s 7ms/step - loss: 0.3948 - accuracy: 0.8228 - val_loss: 0.4887 - val_accuracy: 0.8542\n",
            "Epoch 8/50\n",
            "24/24 [==============================] - 0s 6ms/step - loss: 0.5165 - accuracy: 0.7981 - val_loss: 0.4588 - val_accuracy: 0.8594\n",
            "Epoch 9/50\n",
            "24/24 [==============================] - 0s 6ms/step - loss: 0.4500 - accuracy: 0.8177 - val_loss: 0.4284 - val_accuracy: 0.8698\n",
            "Epoch 10/50\n",
            "24/24 [==============================] - 0s 7ms/step - loss: 0.4080 - accuracy: 0.8443 - val_loss: 0.3984 - val_accuracy: 0.8750\n",
            "Epoch 11/50\n",
            "24/24 [==============================] - 0s 6ms/step - loss: 0.3654 - accuracy: 0.8646 - val_loss: 0.3700 - val_accuracy: 0.8906\n",
            "Epoch 12/50\n",
            "24/24 [==============================] - 0s 6ms/step - loss: 0.3406 - accuracy: 0.8762 - val_loss: 0.3436 - val_accuracy: 0.8906\n",
            "Epoch 13/50\n",
            "24/24 [==============================] - 0s 6ms/step - loss: 0.5024 - accuracy: 0.8257 - val_loss: 0.3199 - val_accuracy: 0.8906\n",
            "Epoch 14/50\n",
            "24/24 [==============================] - 0s 7ms/step - loss: 0.3697 - accuracy: 0.8845 - val_loss: 0.2996 - val_accuracy: 0.9010\n",
            "Epoch 15/50\n",
            "24/24 [==============================] - 0s 7ms/step - loss: 0.3190 - accuracy: 0.8693 - val_loss: 0.2818 - val_accuracy: 0.9115\n",
            "Epoch 16/50\n",
            "24/24 [==============================] - 0s 6ms/step - loss: 0.3556 - accuracy: 0.8735 - val_loss: 0.2659 - val_accuracy: 0.9219\n",
            "Epoch 17/50\n",
            "24/24 [==============================] - 0s 7ms/step - loss: 0.3265 - accuracy: 0.8581 - val_loss: 0.2523 - val_accuracy: 0.9167\n",
            "Epoch 18/50\n",
            "24/24 [==============================] - 0s 7ms/step - loss: 0.3263 - accuracy: 0.8743 - val_loss: 0.2424 - val_accuracy: 0.9219\n",
            "Epoch 19/50\n",
            "24/24 [==============================] - 0s 6ms/step - loss: 0.3669 - accuracy: 0.8694 - val_loss: 0.2345 - val_accuracy: 0.9167\n",
            "Epoch 20/50\n",
            "24/24 [==============================] - 0s 16ms/step - loss: 0.3294 - accuracy: 0.8724 - val_loss: 0.2281 - val_accuracy: 0.9167\n",
            "Epoch 21/50\n",
            "24/24 [==============================] - 0s 7ms/step - loss: 0.3402 - accuracy: 0.8927 - val_loss: 0.2233 - val_accuracy: 0.9167\n",
            "Epoch 22/50\n",
            "24/24 [==============================] - 0s 6ms/step - loss: 0.2990 - accuracy: 0.8906 - val_loss: 0.2198 - val_accuracy: 0.9167\n",
            "Epoch 23/50\n",
            "24/24 [==============================] - 0s 6ms/step - loss: 0.2918 - accuracy: 0.8902 - val_loss: 0.2177 - val_accuracy: 0.9167\n",
            "Epoch 24/50\n",
            "24/24 [==============================] - 0s 7ms/step - loss: 0.3266 - accuracy: 0.8924 - val_loss: 0.2152 - val_accuracy: 0.9219\n",
            "Epoch 25/50\n",
            "24/24 [==============================] - 0s 7ms/step - loss: 0.3027 - accuracy: 0.8862 - val_loss: 0.2143 - val_accuracy: 0.9219\n",
            "Epoch 26/50\n",
            "24/24 [==============================] - 0s 7ms/step - loss: 0.3134 - accuracy: 0.8913 - val_loss: 0.2128 - val_accuracy: 0.9219\n",
            "Epoch 27/50\n",
            "24/24 [==============================] - 0s 6ms/step - loss: 0.2807 - accuracy: 0.8984 - val_loss: 0.2122 - val_accuracy: 0.9219\n",
            "Epoch 28/50\n",
            "24/24 [==============================] - 0s 7ms/step - loss: 0.3234 - accuracy: 0.8891 - val_loss: 0.2116 - val_accuracy: 0.9219\n",
            "Epoch 29/50\n",
            "24/24 [==============================] - 0s 7ms/step - loss: 0.2586 - accuracy: 0.9099 - val_loss: 0.2123 - val_accuracy: 0.9219\n",
            "Epoch 30/50\n",
            "24/24 [==============================] - 0s 7ms/step - loss: 0.2533 - accuracy: 0.8998 - val_loss: 0.2125 - val_accuracy: 0.9219\n",
            "Epoch 31/50\n",
            "24/24 [==============================] - 0s 7ms/step - loss: 0.3206 - accuracy: 0.9000 - val_loss: 0.2105 - val_accuracy: 0.9323\n",
            "Epoch 32/50\n",
            "24/24 [==============================] - 0s 7ms/step - loss: 0.2535 - accuracy: 0.8955 - val_loss: 0.2092 - val_accuracy: 0.9323\n",
            "Epoch 33/50\n",
            "24/24 [==============================] - 0s 7ms/step - loss: 0.2844 - accuracy: 0.8940 - val_loss: 0.2092 - val_accuracy: 0.9323\n",
            "Epoch 34/50\n",
            "24/24 [==============================] - 0s 8ms/step - loss: 0.2850 - accuracy: 0.8969 - val_loss: 0.2096 - val_accuracy: 0.9323\n",
            "Epoch 35/50\n",
            "24/24 [==============================] - 0s 7ms/step - loss: 0.2721 - accuracy: 0.9024 - val_loss: 0.2091 - val_accuracy: 0.9323\n",
            "Epoch 36/50\n",
            "24/24 [==============================] - 0s 7ms/step - loss: 0.2214 - accuracy: 0.9256 - val_loss: 0.2094 - val_accuracy: 0.9323\n",
            "Epoch 37/50\n",
            "24/24 [==============================] - 0s 7ms/step - loss: 0.2530 - accuracy: 0.9098 - val_loss: 0.2092 - val_accuracy: 0.9323\n",
            "Epoch 38/50\n",
            "24/24 [==============================] - 0s 7ms/step - loss: 0.3090 - accuracy: 0.8924 - val_loss: 0.2090 - val_accuracy: 0.9323\n",
            "Epoch 39/50\n",
            "24/24 [==============================] - 0s 6ms/step - loss: 0.2218 - accuracy: 0.9198 - val_loss: 0.2083 - val_accuracy: 0.9323\n",
            "Epoch 40/50\n",
            "24/24 [==============================] - 0s 7ms/step - loss: 0.2582 - accuracy: 0.9076 - val_loss: 0.2082 - val_accuracy: 0.9323\n",
            "Epoch 41/50\n",
            "24/24 [==============================] - 0s 7ms/step - loss: 0.2292 - accuracy: 0.9080 - val_loss: 0.2072 - val_accuracy: 0.9323\n",
            "Epoch 42/50\n",
            "24/24 [==============================] - 0s 7ms/step - loss: 0.2433 - accuracy: 0.9151 - val_loss: 0.2066 - val_accuracy: 0.9323\n",
            "Epoch 43/50\n",
            "24/24 [==============================] - 0s 7ms/step - loss: 0.2362 - accuracy: 0.9272 - val_loss: 0.2064 - val_accuracy: 0.9323\n",
            "Epoch 44/50\n",
            "24/24 [==============================] - 0s 7ms/step - loss: 0.2479 - accuracy: 0.9103 - val_loss: 0.2061 - val_accuracy: 0.9323\n",
            "Epoch 45/50\n",
            "24/24 [==============================] - 0s 7ms/step - loss: 0.1999 - accuracy: 0.9372 - val_loss: 0.2059 - val_accuracy: 0.9323\n",
            "Epoch 46/50\n",
            "24/24 [==============================] - 0s 7ms/step - loss: 0.2100 - accuracy: 0.9275 - val_loss: 0.2049 - val_accuracy: 0.9323\n",
            "Epoch 47/50\n",
            "24/24 [==============================] - 0s 7ms/step - loss: 0.1983 - accuracy: 0.9306 - val_loss: 0.2049 - val_accuracy: 0.9323\n",
            "Epoch 48/50\n",
            "24/24 [==============================] - 0s 7ms/step - loss: 0.2219 - accuracy: 0.9099 - val_loss: 0.2047 - val_accuracy: 0.9323\n",
            "Epoch 49/50\n",
            "24/24 [==============================] - 0s 7ms/step - loss: 0.2037 - accuracy: 0.9155 - val_loss: 0.2051 - val_accuracy: 0.9323\n",
            "Epoch 50/50\n",
            "24/24 [==============================] - 0s 7ms/step - loss: 0.2764 - accuracy: 0.9076 - val_loss: 0.2057 - val_accuracy: 0.9323\n"
          ],
          "name": "stdout"
        }
      ]
    },
    {
      "cell_type": "code",
      "metadata": {
        "colab": {
          "base_uri": "https://localhost:8080/",
          "height": 573
        },
        "id": "T4SQV4_vpKVn",
        "outputId": "c8e05242-f348-41db-b751-d3687c759107"
      },
      "source": [
        "plot_learningCurve(history, epochs)"
      ],
      "execution_count": 87,
      "outputs": [
        {
          "output_type": "display_data",
          "data": {
            "image/png": "[encoded data removed]",
            "text/plain": [
              "<Figure size 432x288 with 1 Axes>"
            ]
          },
          "metadata": {
            "tags": []
          }
        },
        {
          "output_type": "display_data",
          "data": {
            "image/png": "[encoded data removed]",
            "text/plain": [
              "<Figure size 432x288 with 1 Axes>"
            ]
          },
          "metadata": {
            "tags": []
          }
        }
      ]
    }
  ]
}